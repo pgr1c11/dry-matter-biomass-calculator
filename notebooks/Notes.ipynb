{
 "cells": [
  {
   "cell_type": "code",
   "execution_count": null,
   "metadata": {},
   "outputs": [],
   "source": [
    "import numpy as np\n",
    "import pandas as pd\n",
    "from src.example import multiply_number_array\n",
    "\n",
    "df = pd.read_csv(\"data/example_data.csv\", sep=',', header=0)\n",
    "colA = df['Column A'].values\n",
    "colB = df['Column B'].values\n",
    "\n",
    "colAMsg = \"\".join(colA)\n",
    "colBMultiplication = \" * \".join(str(item) for item in colB)\n",
    "result = multiply_number_array(colB)\n",
    "msg = \"{}! {} = {}\".format(colAMsg, colBMultiplication, result)\n",
    "print(msg)"
   ]
  }
 ],
 "metadata": {
  "interpreter": {
   "hash": "f1ddfcc7225123c800b96f3ea8249b8371049336ddcff3e2c0d1d3bdb62256bc"
  },
  "kernelspec": {
   "display_name": "Python 3.9.10 ('env': venv)",
   "language": "python",
   "name": "python3"
  },
  "language_info": {
   "codemirror_mode": {
    "name": "ipython",
    "version": 3
   },
   "file_extension": ".py",
   "mimetype": "text/x-python",
   "name": "python",
   "nbconvert_exporter": "python",
   "pygments_lexer": "ipython3",
   "version": "3.9.10"
  },
  "orig_nbformat": 4
 },
 "nbformat": 4,
 "nbformat_minor": 2
}
