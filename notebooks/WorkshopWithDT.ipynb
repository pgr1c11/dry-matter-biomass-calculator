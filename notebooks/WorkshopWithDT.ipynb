{
 "cells": [
  {
   "cell_type": "code",
   "execution_count": 1,
   "metadata": {},
   "outputs": [],
   "source": [
    "import numpy as np\n",
    "\n",
    "# Ideal input is an array of actual measurements\n",
    "# If the farmer gives us n, mu, and sigma, then we generate dbh randomly from this samples=1000, but we set n to the n the farmer provided (not the size of the generated array)\n",
    "\n",
    "dbh_cm = np.array([9, 10, 11]) # this is the ideal input\n",
    "n = np.shape(dbh_cm)[0]\n",
    "mean_N = 1000\n",
    "variance_N = 100\n",
    "\n",
    "def diameter_to_mass(diameter: np.ndarray) -> tuple[np.ndarray, np.ndarray]:\n",
    "    R2 = 0.98\n",
    "    mass = np.exp(-2.289 + 2.659 * np.log(diameter) - 0.021 * (np.log(diameter))**2)\n",
    "    variance = ((1 - R2) * mass) ** 2\n",
    "    return mass, variance\n",
    "\n",
    "mass, variance = diameter_to_mass(dbh_cm)\n",
    "average_variance = np.mean(variance)\n",
    "mean_mass = np.mean(mass)\n",
    "mean_mass_variance = (np.sum((mass - mean_mass)**2))/(n-1)\n",
    "distribution_variance = mean_mass_variance + average_variance\n",
    "standard_error_in_total_mass = np.sqrt((mean_N + variance_N) * (distribution_variance / n))\n",
    "total_mass = mean_mass * mean_N\n",
    "total_mass_t = total_mass / 1000\n",
    "standard_error_in_total_mass_t = standard_error_in_total_mass / 1000\n",
    "\n",
    "# YoY delta\n",
    "mean_yr_1 = 1000 # these are calculated using the same method as above (twice, once for each year)\n",
    "sd_yr_1 = 100\n",
    "mean_yr_2 = 1100\n",
    "sd_yr_2 = 110\n",
    "mean_delta = mean_yr_2 - mean_yr_1\n",
    "sd_delta = np.sqrt(sd_yr_1**2 + sd_yr_2**2)"
   ]
  },
  {
   "cell_type": "markdown",
   "metadata": {},
   "source": [
    "### Statement about confidence intervals\n",
    "In going from a SD to confidence intervals we assume that the error in the mean is a Gaussian distribution. The error in the mean is the sum of many errors. When you sum many errors, irrespective of the distribution of the individual errors, central limit theorem states that the resulting distribution in the error tends to Gaussian.\n",
    "1.65 SD for one tailed\n",
    "1.96 SD for 2 tailed"
   ]
  }
 ],
 "metadata": {
  "kernelspec": {
   "display_name": "env",
   "language": "python",
   "name": "python3"
  },
  "language_info": {
   "codemirror_mode": {
    "name": "ipython",
    "version": 3
   },
   "file_extension": ".py",
   "mimetype": "text/x-python",
   "name": "python",
   "nbconvert_exporter": "python",
   "pygments_lexer": "ipython3",
   "version": "3.10.0"
  }
 },
 "nbformat": 4,
 "nbformat_minor": 2
}
